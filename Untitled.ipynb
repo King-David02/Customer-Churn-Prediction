{
 "cells": [
  {
   "cell_type": "code",
   "execution_count": 17,
   "id": "b0d7f726-3565-4187-ae7b-81eda2d80f40",
   "metadata": {},
   "outputs": [],
   "source": [
    "import  pandas as pd\n",
    "import requests"
   ]
  },
  {
   "cell_type": "code",
   "execution_count": 18,
   "id": "c61737e5-a1c0-4f68-aa7a-cb503db85c2d",
   "metadata": {},
   "outputs": [],
   "source": [
    "url = \"http://localhost:9696/predict\""
   ]
  },
  {
   "cell_type": "code",
   "execution_count": 19,
   "id": "a45ba55e-d7cc-4aa7-b1ed-22564b91fe35",
   "metadata": {},
   "outputs": [],
   "source": [
    "customer = {\n",
    "     \"gender\": \"female\",\n",
    "     \"seniorcitizen\": \"0\",\n",
    "     \"partner\": \"yes\",\n",
    "     \"dependents\": \"no\",\n",
    "     \"tenure\": \"15\",\n",
    "     \"phoneservice\": \"no\",\n",
    "     \"multiplelines\": \"yes\",\n",
    "     \"internetservice\": \"dsl\",\n",
    "     \"onlinesecurity\": \"yes\",\n",
    "     \"onlinebackup\": \"yes\",\n",
    "     \"deviceprotection\": \"no\",\n",
    "     \"techsupport\": \"no\",\n",
    "     \"streamingtv\": \"yes\",\n",
    "     \"streamingmovies\": \"no\",\n",
    "     \"contract\": \"one_year\",\n",
    "     \"paperlessbilling\": \"yes\",\n",
    "     \"paymentmethod\": \"mailed_check\",\n",
    "     \"monthlycharges\": \"2325\",\n",
    "     \"totalcharges\": \"29.85\",\n",
    "}"
   ]
  },
  {
   "cell_type": "code",
   "execution_count": 20,
   "id": "9191cb55-e426-49e6-9e6a-1a710018a98d",
   "metadata": {},
   "outputs": [
    {
     "data": {
      "text/plain": [
       "{'churn': True, 'probability': 0.99879548939148}"
      ]
     },
     "execution_count": 20,
     "metadata": {},
     "output_type": "execute_result"
    }
   ],
   "source": [
    "response = requests.post(url, json=customer).json()\n",
    "response"
   ]
  },
  {
   "cell_type": "code",
   "execution_count": 21,
   "id": "fe71ac89-8cf9-4e37-a543-9166aaef2c98",
   "metadata": {},
   "outputs": [
    {
     "name": "stdout",
     "output_type": "stream",
     "text": [
      "Send promotion\n"
     ]
    }
   ],
   "source": [
    "if response['churn'] == True:\n",
    "    print('Send promotion')"
   ]
  },
  {
   "cell_type": "markdown",
   "id": "0eb2a4d2",
   "metadata": {},
   "source": []
  }
 ],
 "metadata": {
  "kernelspec": {
   "display_name": "Python 3 (ipykernel)",
   "language": "python",
   "name": "python3"
  },
  "language_info": {
   "codemirror_mode": {
    "name": "ipython",
    "version": 3
   },
   "file_extension": ".py",
   "mimetype": "text/x-python",
   "name": "python",
   "nbconvert_exporter": "python",
   "pygments_lexer": "ipython3",
   "version": "3.12.4"
  }
 },
 "nbformat": 4,
 "nbformat_minor": 5
}
