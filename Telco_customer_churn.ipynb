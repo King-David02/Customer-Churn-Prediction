{
 "cells": [
  {
   "cell_type": "code",
   "execution_count": null,
   "id": "ad23ac6a-4802-4fea-98f8-664d974698e5",
   "metadata": {},
   "outputs": [],
   "source": [
    "import pandas as pd\n",
    "import numpy as np\n",
    "import matplotlib.pyplot as plt\n",
    "from sklearn.linear_model import LogisticRegression\n",
    "from sklearn.model_selection import train_test_split\n",
    "from sklearn.metrics import accuracy_score, confusion_matrix\n",
    "from sklearn.base import BaseEstimator, TransformerMixin\n",
    "from sklearn.pipeline import Pipeline"
   ]
  },
  {
   "cell_type": "code",
   "execution_count": null,
   "id": "3a3e1eb2-fec8-481e-937a-b578d6358a72",
   "metadata": {},
   "outputs": [],
   "source": [
    "df = pd.read_csv('data.csv')\n",
    "df"
   ]
  },
  {
   "cell_type": "code",
   "execution_count": null,
   "id": "214de8d6",
   "metadata": {},
   "outputs": [],
   "source": [
    "df.drop('customerID', axis = 1, inplace=True)\n",
    "df"
   ]
  },
  {
   "cell_type": "code",
   "execution_count": null,
   "id": "5234c0fe",
   "metadata": {},
   "outputs": [],
   "source": [
    "df.columns = df.columns.str.lower()\n",
    "df"
   ]
  },
  {
   "cell_type": "code",
   "execution_count": null,
   "id": "91348ff4",
   "metadata": {},
   "outputs": [],
   "source": [
    "cat_var = [var for var in df.columns if df[var].dtype == 'object']\n",
    "cat_var"
   ]
  },
  {
   "cell_type": "code",
   "execution_count": null,
   "id": "b24833bf",
   "metadata": {},
   "outputs": [],
   "source": [
    "for cols in cat_var:\n",
    "    df[cols] = df[cols].str.lower().str.replace(' ', '_')\n",
    "df"
   ]
  },
  {
   "cell_type": "code",
   "execution_count": null,
   "id": "f65f4e5b",
   "metadata": {},
   "outputs": [],
   "source": [
    "missing_values = [var for var in df.columns if df[var].isnull().sum()]\n",
    "missing_values"
   ]
  },
  {
   "cell_type": "code",
   "execution_count": null,
   "id": "246ad3c1-b007-4c51-acee-4315e6d88ff0",
   "metadata": {},
   "outputs": [],
   "source": [
    "df"
   ]
  },
  {
   "cell_type": "code",
   "execution_count": null,
   "id": "90d93e5a-bc2e-4d12-afd7-92324076be84",
   "metadata": {},
   "outputs": [],
   "source": [
    "print(cat_var)"
   ]
  },
  {
   "cell_type": "code",
   "execution_count": null,
   "id": "d873629d-08d9-46a0-abd7-853f47d5942c",
   "metadata": {},
   "outputs": [],
   "source": [
    "df"
   ]
  },
  {
   "cell_type": "code",
   "execution_count": null,
   "id": "6dcc47c6",
   "metadata": {},
   "outputs": [],
   "source": [
    "cat_var.remove('churn')\n",
    "for var in cat_var:\n",
    "    print(var)\n",
    "    print(df[var].nunique())"
   ]
  },
  {
   "cell_type": "code",
   "execution_count": null,
   "id": "7ec744bd-858a-498f-90d5-203241288945",
   "metadata": {},
   "outputs": [],
   "source": [
    "df"
   ]
  },
  {
   "cell_type": "code",
   "execution_count": null,
   "id": "14c753a7-f624-4acd-8074-e9dc324d6ff9",
   "metadata": {},
   "outputs": [],
   "source": [
    "X = df.drop('churn', axis=1)\n",
    "y = df['churn']"
   ]
  },
  {
   "cell_type": "code",
   "execution_count": null,
   "id": "cb94a618-e7a2-4f02-9b9a-40382b2fc80b",
   "metadata": {},
   "outputs": [],
   "source": [
    "class ValueCountTransformer(BaseEstimator, TransformerMixin):\n",
    "    def __init__(self, cat_var):\n",
    "        self.cat_var = cat_var\n",
    "        self.value_count_mapping = {}\n",
    "\n",
    "    def fit(self, X, y = None):\n",
    "        for cols in self.cat_var:\n",
    "            self.value_count_mapping[cols] = X[cols].value_counts().to_dict()\n",
    "        return self\n",
    "\n",
    "    def transform(self, X, y = None):\n",
    "        X_transformed = X.copy()\n",
    "        for cols in self.cat_var:\n",
    "            X_transformed[cols] = X_transformed[cols].map(self.value_count_mapping[cols]).fillna(0)\n",
    "        return X_transformed"
   ]
  },
  {
   "cell_type": "code",
   "execution_count": null,
   "id": "40fce557-347a-4140-8d33-146717cb310a",
   "metadata": {},
   "outputs": [],
   "source": [
    "cat_columns = X.select_dtypes(include=['object']).columns.tolist()"
   ]
  },
  {
   "cell_type": "code",
   "execution_count": null,
   "id": "64f0d819-9635-4035-9633-6ae7df628f05",
   "metadata": {},
   "outputs": [],
   "source": [
    "value_count_transformer = ValueCountTransformer(cat_columns)"
   ]
  },
  {
   "cell_type": "code",
   "execution_count": null,
   "id": "cec89576-8adc-455c-b40b-61b7f72e4482",
   "metadata": {},
   "outputs": [],
   "source": [
    "pipeline = Pipeline([\n",
    "    ('value_counts', value_count_transformer),\n",
    "    ('logistic_regression', LogisticRegression(max_iter=200))\n",
    "])"
   ]
  },
  {
   "cell_type": "code",
   "execution_count": null,
   "id": "20a7b77e-8cb2-4fc2-aa61-3383d55eddc9",
   "metadata": {},
   "outputs": [],
   "source": [
    "print(df.columns)"
   ]
  },
  {
   "cell_type": "code",
   "execution_count": null,
   "id": "2c74c4bd-a49c-4591-a672-a642c656f11f",
   "metadata": {},
   "outputs": [],
   "source": [
    "X_train, X_test, y_train, y_test = train_test_split(X, y, test_size=0.2, random_state=42)"
   ]
  },
  {
   "cell_type": "code",
   "execution_count": null,
   "id": "320d5d1b-24ba-4d7a-b261-2fa3dc1eb238",
   "metadata": {},
   "outputs": [],
   "source": [
    "pipeline.fit(X_train, y_train)"
   ]
  },
  {
   "cell_type": "code",
   "execution_count": null,
   "id": "7fe42cee-bec6-4ea6-8b21-e72af90ad005",
   "metadata": {},
   "outputs": [],
   "source": [
    "prediction = pipeline.predict(X_test)"
   ]
  },
  {
   "cell_type": "code",
   "execution_count": null,
   "id": "eb8723f8",
   "metadata": {},
   "outputs": [],
   "source": [
    "comparing = pd.DataFrame({'Actual vaue': y_test, 'Predicted Value': prediction})\n",
    "comparing"
   ]
  },
  {
   "cell_type": "code",
   "execution_count": null,
   "id": "32974dfd",
   "metadata": {},
   "outputs": [],
   "source": [
    "ac = accuracy_score(y_test, prediction)\n",
    "ac"
   ]
  },
  {
   "cell_type": "code",
   "execution_count": null,
   "id": "72712953",
   "metadata": {},
   "outputs": [],
   "source": [
    "cm = confusion_matrix(y_test, prediction)\n",
    "print(cm)"
   ]
  },
  {
   "cell_type": "code",
   "execution_count": null,
   "id": "81af9260",
   "metadata": {},
   "outputs": [],
   "source": [
    "import pickle"
   ]
  },
  {
   "cell_type": "code",
   "execution_count": null,
   "id": "427da328-435e-48ef-adea-8cbb7a4588d6",
   "metadata": {},
   "outputs": [],
   "source": [
    "with open('pipeline.pkl', 'wb') as f:\n",
    "    pickle.dump(pipeline, f)"
   ]
  },
  {
   "cell_type": "code",
   "execution_count": null,
   "id": "8298bcfd",
   "metadata": {},
   "outputs": [],
   "source": [
    "#pickle.dump(pipeline, open(r'C:\\Users\\ajana\\OneDrive\\ML\\ML Zoom camp\\Section 5\\model_saved', 'wb'))"
   ]
  },
  {
   "cell_type": "code",
   "execution_count": null,
   "id": "92c327f0",
   "metadata": {},
   "outputs": [],
   "source": [
    "#model_load = pickle.load(open('model_saved', 'rb'))"
   ]
  },
  {
   "cell_type": "code",
   "execution_count": null,
   "id": "10d7c870",
   "metadata": {},
   "outputs": [],
   "source": []
  }
 ],
 "metadata": {
  "kernelspec": {
   "display_name": "Python 3 (ipykernel)",
   "language": "python",
   "name": "python3"
  },
  "language_info": {
   "codemirror_mode": {
    "name": "ipython",
    "version": 3
   },
   "file_extension": ".py",
   "mimetype": "text/x-python",
   "name": "python",
   "nbconvert_exporter": "python",
   "pygments_lexer": "ipython3",
   "version": "3.11.7"
  }
 },
 "nbformat": 4,
 "nbformat_minor": 5
}
